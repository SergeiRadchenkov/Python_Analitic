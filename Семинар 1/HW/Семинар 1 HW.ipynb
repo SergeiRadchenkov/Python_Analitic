{
 "cells": [
  {
   "cell_type": "markdown",
   "id": "7a7e471a",
   "metadata": {},
   "source": [
    "## Задача 1. Ошибка в затратах на рекламу\n",
    "Дан список adv с затратами на рекламу.\n",
    "- Но в данных есть ошибки, некоторые затраты имеют отрицательную величину.\n",
    "- Удалите такие значения из списка и посчитайте суммарные затраты.\n",
    "- Запишите их в переменную x.\n",
    "- Используйте list comprehensions."
   ]
  },
  {
   "cell_type": "code",
   "execution_count": 8,
   "id": "bce6ed80",
   "metadata": {},
   "outputs": [],
   "source": [
    "adv = [100, 125, -90, 345, 655, -1, 0, 200]"
   ]
  },
  {
   "cell_type": "code",
   "execution_count": 9,
   "id": "a01d7e2c",
   "metadata": {},
   "outputs": [],
   "source": [
    "x = sum([i for i in adv if i > 0])"
   ]
  },
  {
   "cell_type": "code",
   "execution_count": 10,
   "id": "cebbf824",
   "metadata": {},
   "outputs": [
    {
     "data": {
      "text/plain": [
       "1425"
      ]
     },
     "execution_count": 10,
     "metadata": {},
     "output_type": "execute_result"
    }
   ],
   "source": [
    "x"
   ]
  },
  {
   "cell_type": "markdown",
   "id": "0a25a283",
   "metadata": {},
   "source": [
    "## Задача2. Склад с фруктами\n",
    "На складе лежат разные фрукты в разном количестве.\n",
    "- Нужно написать функцию total_fruits, которая на вход принимает любое количество названий фруктов и их количество, а возвращает общее количество фруктов на складе.\n",
    "\n",
    "можно решить через *kwargs"
   ]
  },
  {
   "cell_type": "code",
   "execution_count": 23,
   "id": "18e05d51",
   "metadata": {},
   "outputs": [],
   "source": [
    "def total_fruits(**kwargs):\n",
    "    x = sum(kwargs.values())\n",
    "    return x\n",
    "    "
   ]
  },
  {
   "cell_type": "code",
   "execution_count": 24,
   "id": "5fc0bdfd",
   "metadata": {},
   "outputs": [
    {
     "name": "stdout",
     "output_type": "stream",
     "text": [
      "23\n"
     ]
    }
   ],
   "source": [
    "print(total_fruits(apples=10, bananas=5, oranges=8))"
   ]
  },
  {
   "cell_type": "markdown",
   "id": "5bf98d34",
   "metadata": {},
   "source": [
    "## Задача3. Сумма покупок в ноябре\n",
    "Даны два списка: дата покупки dates, суммы покупок по датам income.\n",
    "- Найти итоговую сумму всех покупок в ноябре и сохранить ее в переменную x.\n",
    "- Используйте list comprehensions."
   ]
  },
  {
   "cell_type": "code",
   "execution_count": 80,
   "id": "c95ec9d4",
   "metadata": {},
   "outputs": [],
   "source": [
    "dates = ['2021-11-01']\n",
    "income = [100]"
   ]
  },
  {
   "cell_type": "code",
   "execution_count": 81,
   "id": "f89fe72e",
   "metadata": {},
   "outputs": [],
   "source": [
    "x = sum(income[i] if dates and \"-11-\" in dates[i] else 0 for i in range(len(income)))"
   ]
  },
  {
   "cell_type": "code",
   "execution_count": 82,
   "id": "7004c808",
   "metadata": {},
   "outputs": [
    {
     "data": {
      "text/plain": [
       "101"
      ]
     },
     "execution_count": 82,
     "metadata": {},
     "output_type": "execute_result"
    }
   ],
   "source": [
    "x"
   ]
  },
  {
   "cell_type": "code",
   "execution_count": 83,
   "id": "2833322d",
   "metadata": {},
   "outputs": [],
   "source": [
    "dates = ['2021-12-01', '2021-11-01']\n",
    "income = [100, 101]"
   ]
  },
  {
   "cell_type": "code",
   "execution_count": 84,
   "id": "b4c4589f",
   "metadata": {},
   "outputs": [],
   "source": [
    "x = sum([income [i] for i in range (len(dates)) if dates[i].split('-')[1] == '11'])"
   ]
  },
  {
   "cell_type": "code",
   "execution_count": 85,
   "id": "a89b9a29",
   "metadata": {},
   "outputs": [
    {
     "data": {
      "text/plain": [
       "101"
      ]
     },
     "execution_count": 85,
     "metadata": {},
     "output_type": "execute_result"
    }
   ],
   "source": [
    "x"
   ]
  },
  {
   "cell_type": "markdown",
   "id": "8f7ce099",
   "metadata": {},
   "source": [
    "## Задача 4. Найдите выручку компании\n",
    "Найдите выручку компании в зависимости от месяца \n",
    "- Для этого напишите функцию calc_income_by_month(), которая на вход принимает список с датами и список с выручкой, а на выходе словарь, где ключи - это месяцы, а значения - это выручка. \n",
    "- Используйте аннотирование типов."
   ]
  },
  {
   "cell_type": "code",
   "execution_count": 115,
   "id": "87812b9b",
   "metadata": {},
   "outputs": [],
   "source": [
    "dates = ['2021-11-01', '2021-11-15', '2021-11-30']\n",
    "incomes = [200, 300, 400]"
   ]
  },
  {
   "cell_type": "code",
   "execution_count": 123,
   "id": "c6ee7876",
   "metadata": {},
   "outputs": [],
   "source": [
    "def calc_income_by_month(dates: list, incomes: list) -> dict:\n",
    "    res = {}\n",
    "    for i in range(len(dates)):\n",
    "        month = dates[i].split('-')[1]\n",
    "        if month in res:\n",
    "            res[month] += incomes[i]\n",
    "        else:\n",
    "            res[month] = incomes[i]\n",
    "    return res"
   ]
  },
  {
   "cell_type": "code",
   "execution_count": 124,
   "id": "358d8117",
   "metadata": {},
   "outputs": [
    {
     "name": "stdout",
     "output_type": "stream",
     "text": [
      "{'11': 900}\n"
     ]
    }
   ],
   "source": [
    "print(calc_income_by_month(dates = ['2021-11-01', '2021-11-15', '2021-11-30'], incomes = [200, 300, 400]))"
   ]
  },
  {
   "cell_type": "code",
   "execution_count": null,
   "id": "4812e5dd",
   "metadata": {},
   "outputs": [],
   "source": []
  }
 ],
 "metadata": {
  "kernelspec": {
   "display_name": "Python 3 (ipykernel)",
   "language": "python",
   "name": "python3"
  },
  "language_info": {
   "codemirror_mode": {
    "name": "ipython",
    "version": 3
   },
   "file_extension": ".py",
   "mimetype": "text/x-python",
   "name": "python",
   "nbconvert_exporter": "python",
   "pygments_lexer": "ipython3",
   "version": "3.11.5"
  }
 },
 "nbformat": 4,
 "nbformat_minor": 5
}
