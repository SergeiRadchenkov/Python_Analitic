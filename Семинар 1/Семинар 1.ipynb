{
 "cells": [
  {
   "cell_type": "markdown",
   "id": "2e026fd4",
   "metadata": {},
   "source": [
    "## Задание 1.\n",
    "### 1.1 Соедините два словаря в один"
   ]
  },
  {
   "cell_type": "code",
   "execution_count": 10,
   "id": "55a24782",
   "metadata": {},
   "outputs": [],
   "source": [
    "dict1 = {'One': 1, 'Two': 2, 'Three': 3}\n",
    "dict2 = {'Four': 4, 'Five': 5, 'Six': 6}"
   ]
  },
  {
   "cell_type": "code",
   "execution_count": 11,
   "id": "ab5f0029",
   "metadata": {},
   "outputs": [
    {
     "data": {
      "text/plain": [
       "{'One': 1, 'Two': 2, 'Three': 3, 'Four': 4, 'Five': 5, 'Six': 6}"
      ]
     },
     "execution_count": 11,
     "metadata": {},
     "output_type": "execute_result"
    }
   ],
   "source": [
    "dict3 = dict1 | dict2\n",
    "dict3"
   ]
  },
  {
   "cell_type": "code",
   "execution_count": 12,
   "id": "d69ad64c",
   "metadata": {},
   "outputs": [
    {
     "data": {
      "text/plain": [
       "{'One': 1, 'Two': 2, 'Three': 3, 'Four': 4, 'Five': 5, 'Six': 6}"
      ]
     },
     "execution_count": 12,
     "metadata": {},
     "output_type": "execute_result"
    }
   ],
   "source": [
    "dict3 = {**dict1, **dict2}\n",
    "dict3"
   ]
  },
  {
   "cell_type": "code",
   "execution_count": 13,
   "id": "53847f3c",
   "metadata": {},
   "outputs": [
    {
     "data": {
      "text/plain": [
       "{'One': 1, 'Two': 2, 'Three': 3, 'Four': 4, 'Five': 5, 'Six': 6}"
      ]
     },
     "execution_count": 13,
     "metadata": {},
     "output_type": "execute_result"
    }
   ],
   "source": [
    "dict4 = dict1.copy()\n",
    "dict4.update(dict2)\n",
    "dict4"
   ]
  },
  {
   "cell_type": "markdown",
   "id": "7a8a7f3f",
   "metadata": {},
   "source": [
    "### 1.2 Напишите функцию, которая на вход принимает два словаря и возвращает один объединенный словарь\n",
    "Используйте аннотирование типов"
   ]
  },
  {
   "cell_type": "code",
   "execution_count": 14,
   "id": "f31b5b9e",
   "metadata": {},
   "outputs": [],
   "source": [
    "def merge_dict(d1: dict[str, int], d2: dict[str, int]) -> [str, int]:\n",
    "    # print(d2.items())\n",
    "    for k, v in d2.items():\n",
    "        d1[k] = v\n",
    "    return d1"
   ]
  },
  {
   "cell_type": "code",
   "execution_count": 15,
   "id": "33125c2f",
   "metadata": {},
   "outputs": [
    {
     "data": {
      "text/plain": [
       "{'One': 1, 'Two': 2, 'Three': 3, 'Four': 4, 'Five': 5, 'Six': 6}"
      ]
     },
     "execution_count": 15,
     "metadata": {},
     "output_type": "execute_result"
    }
   ],
   "source": [
    "merge_dict(dict1, dict2)"
   ]
  },
  {
   "cell_type": "code",
   "execution_count": 16,
   "id": "58e26229",
   "metadata": {},
   "outputs": [
    {
     "data": {
      "text/plain": [
       "{'One': 1, 'Two': 2, 'Three': 3, 'Four': 4, 'Five': 5, 'Six': 6}"
      ]
     },
     "execution_count": 16,
     "metadata": {},
     "output_type": "execute_result"
    }
   ],
   "source": [
    "dict1"
   ]
  },
  {
   "cell_type": "markdown",
   "id": "7798985a",
   "metadata": {},
   "source": [
    "## Задание 2.\n",
    "Напишите функцию, которая из двух списков, делает один словарь, где элементы из первого списка - ключи, а элементы из второго списка - значения\n",
    "\n",
    "keys = ['One', 'Two', 'Three']\n",
    "values = [1, 2, 3]\n",
    "\n",
    "Используйте аннотирование типов\n",
    "\n",
    "### 2.1 Используя цикл for"
   ]
  },
  {
   "cell_type": "code",
   "execution_count": 17,
   "id": "e5f74307",
   "metadata": {},
   "outputs": [],
   "source": [
    "keys = ['One', 'Two', 'Three']\n",
    "values = [1, 2, 3]"
   ]
  },
  {
   "cell_type": "code",
   "execution_count": 18,
   "id": "151ce845",
   "metadata": {},
   "outputs": [
    {
     "data": {
      "text/plain": [
       "{'One': 1, 'Two': 2, 'Three': 3}"
      ]
     },
     "execution_count": 18,
     "metadata": {},
     "output_type": "execute_result"
    }
   ],
   "source": [
    "def creat_dict(k: list[str], v: list[int]) -> dict:\n",
    "    res = {}\n",
    "    for i in range(len(v)):\n",
    "        res[k[i]] = v[i]\n",
    "    return res\n",
    "\n",
    "creat_dict(keys, values)"
   ]
  },
  {
   "cell_type": "markdown",
   "id": "9a5d2e4d",
   "metadata": {},
   "source": [
    "### 2.2 Используя dict comprehensions"
   ]
  },
  {
   "cell_type": "code",
   "execution_count": 19,
   "id": "412e0ec2",
   "metadata": {},
   "outputs": [
    {
     "data": {
      "text/plain": [
       "{'One': 1, 'Two': 2, 'Three': 3}"
      ]
     },
     "execution_count": 19,
     "metadata": {},
     "output_type": "execute_result"
    }
   ],
   "source": [
    "res = {keys[i] : values[i] for i in range(len(values))}\n",
    "res"
   ]
  },
  {
   "cell_type": "markdown",
   "id": "0b8c8677",
   "metadata": {},
   "source": [
    "## Задание 3. \n",
    "Извлеките только два ключа name и age из представленного словаря \n",
    "client_dict = {\n",
    "\"name\": \"John\",\n",
    "\"age\": 25,\n",
    "\"salary\": 5000,\n",
    "\"city\": \"Moscow\"\n",
    "}\n",
    "\n",
    "### 3.1 Напишите функцию с циклом for\n",
    "Функция на вход принимает:\n",
    "исходный словарь\n",
    "ключи, которые нужно извлечь (аргумент по умолчанию)\n",
    "На выходе словарь с нужными ключами\n",
    "Используйте аннотирование типов"
   ]
  },
  {
   "cell_type": "code",
   "execution_count": 4,
   "id": "c55bb6fc",
   "metadata": {},
   "outputs": [],
   "source": [
    "client_dict = { \"name\": \"John\", \"age\": 25, \"salary\": 5000, \"city\": \"Moscow\" }"
   ]
  },
  {
   "cell_type": "code",
   "execution_count": 5,
   "id": "1055a1ad",
   "metadata": {},
   "outputs": [],
   "source": [
    "def get_keys(data: dict, keys: list = [\"name\", \"age\"]) -> dict:\n",
    "    res = {}\n",
    "    for k in keys:\n",
    "        res[k] = data[k]\n",
    "    return res"
   ]
  },
  {
   "cell_type": "code",
   "execution_count": 6,
   "id": "37505825",
   "metadata": {},
   "outputs": [
    {
     "data": {
      "text/plain": [
       "{'name': 'John', 'age': 25}"
      ]
     },
     "execution_count": 6,
     "metadata": {},
     "output_type": "execute_result"
    }
   ],
   "source": [
    "get_keys(client_dict)"
   ]
  },
  {
   "cell_type": "code",
   "execution_count": 7,
   "id": "a87427a2",
   "metadata": {},
   "outputs": [
    {
     "data": {
      "text/plain": [
       "{'salary': 5000, 'city': 'Moscow'}"
      ]
     },
     "execution_count": 7,
     "metadata": {},
     "output_type": "execute_result"
    }
   ],
   "source": [
    " get_keys(client_dict, [\"salary\", \"city\"])"
   ]
  },
  {
   "cell_type": "markdown",
   "id": "05b88821",
   "metadata": {},
   "source": [
    "### 3.2 Используя dict comprehensions"
   ]
  },
  {
   "cell_type": "code",
   "execution_count": 8,
   "id": "482fd976",
   "metadata": {},
   "outputs": [
    {
     "data": {
      "text/plain": [
       "{'name': 'John', 'age': 25}"
      ]
     },
     "execution_count": 8,
     "metadata": {},
     "output_type": "execute_result"
    }
   ],
   "source": [
    "res = {k: client_dict[k] for k in [\"name\", \"age\"]}\n",
    "res"
   ]
  },
  {
   "cell_type": "markdown",
   "id": "5fb052ba",
   "metadata": {},
   "source": [
    "## Задание 4.\n",
    "### 4.1 Сгенерируйте случайные целые числа от 0 до 100 в количестве 5 штук с помощью модуля random\n",
    "Зафиксируйте псевдогенерацию, чтобы сгенерированные значения всегда были одинаковые\n",
    "Используйте list comprehensions"
   ]
  },
  {
   "cell_type": "code",
   "execution_count": 10,
   "id": "f1d44b44",
   "metadata": {},
   "outputs": [],
   "source": [
    "import random"
   ]
  },
  {
   "cell_type": "code",
   "execution_count": 12,
   "id": "b5362773",
   "metadata": {},
   "outputs": [
    {
     "data": {
      "text/plain": [
       "[79, 32, 94, 45, 88]"
      ]
     },
     "execution_count": 12,
     "metadata": {},
     "output_type": "execute_result"
    }
   ],
   "source": [
    "random.seed(5)\n",
    "data = [random.randint(0, 100) for _ in range(5)]\n",
    "data"
   ]
  },
  {
   "cell_type": "markdown",
   "id": "a03751da",
   "metadata": {},
   "source": [
    "### 4.2* Напишите генератор\n",
    "- Генератор на вход принимает список с данными о клиенте (данные из пункта 4.1)\n",
    "- Внутри генератора реализуйте обход по списку с данными\n",
    "\n",
    "На каждой итерации генератор будет возвращать кортеж из двух элементов:\n",
    "- данные по клиенту (в зависимости от итерации, на 0 итерации вернется 0 элемент, на 1 итерации вернется 1 элемент и тд)\n",
    "- целочисленное значение, которое показывает, сколько секунд прошло с предыдущей итерации\n",
    "\n",
    "Примечание: секунды, которые возвращаются должны показывать время не с начала запуска генератора, а именно то время, которое прошло с предыдущей итерации. А значит время на первой итерации должно равняться 0.\n",
    "- Используйте функцию time из модуля time для подсчета времени.\n",
    "- Чтобы проверить работу таймера, запустите проход по генератору в цикле с time.sleep(2)"
   ]
  },
  {
   "cell_type": "code",
   "execution_count": 13,
   "id": "2b5d5788",
   "metadata": {},
   "outputs": [],
   "source": [
    "import time"
   ]
  },
  {
   "cell_type": "code",
   "execution_count": 23,
   "id": "5401a959",
   "metadata": {},
   "outputs": [],
   "source": [
    "def elapsed_since(my_data):\n",
    "    last_time = time.time()\n",
    "    for el in my_data:\n",
    "        current_time = time.time()\n",
    "        dif_time = current_time - last_time\n",
    "        yield el, int(dif_time)\n",
    "        print(\"Следующий запуск генератора\")\n",
    "        last_time = current_time"
   ]
  },
  {
   "cell_type": "code",
   "execution_count": 24,
   "id": "7555c2b6",
   "metadata": {},
   "outputs": [
    {
     "name": "stdout",
     "output_type": "stream",
     "text": [
      "(79, 0)\n",
      "Следующий запуск генератора\n",
      "(32, 2)\n",
      "Следующий запуск генератора\n",
      "(94, 2)\n",
      "Следующий запуск генератора\n",
      "(45, 2)\n",
      "Следующий запуск генератора\n",
      "(88, 2)\n",
      "Следующий запуск генератора\n"
     ]
    }
   ],
   "source": [
    "for t in elapsed_since(data):\n",
    "    print(t)\n",
    "    time.sleep(2)"
   ]
  },
  {
   "cell_type": "markdown",
   "id": "c09e2ee7",
   "metadata": {},
   "source": [
    "## Задание 5.\n",
    "### 5.1 Найдите картинку в интернете и прикрепите её в ячейку с текстом\n",
    "### 5.2 Создайте следующую таблицу в ячейке с текстом"
   ]
  },
  {
   "cell_type": "markdown",
   "id": "e9b60602",
   "metadata": {},
   "source": [
    "<img src=https://mykaleidoscope.ru/x/uploads/posts/2022-10/1666206241_12-mykaleidoscope-ru-p-kartinka-na-zastavku-oboi-12.jpg width=300>"
   ]
  },
  {
   "cell_type": "markdown",
   "id": "55e405e7",
   "metadata": {},
   "source": [
    "<table>\n",
    "    <tr>\n",
    "        <td></td>\n",
    "        <td>До события</td>\n",
    "        <td>Во время события</td>\n",
    "    </tr>\n",
    "    <tr>\n",
    "        <td>1 точка</td>\n",
    "        <td>250</td>\n",
    "        <td>500</td>\n",
    "    </tr>\n",
    "    <tr>\n",
    "        <td>2 точка</td>\n",
    "        <td>350</td>\n",
    "        <td>700</td>\n",
    "    </tr>\n",
    "    <tr>\n",
    "        <td>3 точка</td>\n",
    "        <td>400</td>\n",
    "        <td>800</td>\n",
    "    </tr>\n",
    "    <tr>\n",
    "        <td>Итого</td>\n",
    "        <td>1000</td>\n",
    "        <td>2000</td>\n",
    "    </tr>\n",
    "</table>"
   ]
  },
  {
   "cell_type": "markdown",
   "id": "6263d164",
   "metadata": {},
   "source": [
    " Column 1 | Column 2 | Column 3 |\n",
    "|----------|----------|----------|\n",
    "| Row 1 | Cell 2 | Cell 3 |\n",
    "| Row 2 | Cell 5 | Cell 6 |\n",
    "| Row 3 | Cell 8 | Cell 9 |"
   ]
  },
  {
   "cell_type": "markdown",
   "id": "a03092b1",
   "metadata": {},
   "source": [
    "## Задание 6. \n",
    "Напишите функцию, которая может принимать любое количество трат пользователя и считать сумму и среднее.\n",
    "- На вход поступают целочисленные значения в любом количестве\n",
    "- На выходе словарь с ключами суммы трат и средней траты"
   ]
  },
  {
   "cell_type": "code",
   "execution_count": 27,
   "id": "72e19e89",
   "metadata": {},
   "outputs": [],
   "source": [
    "def sum_perchases(*args):\n",
    "    print(args)\n",
    "    summa = sum(args)\n",
    "    length = len(args)\n",
    "    return {\"Сумма\": summa, \"Среднее\": summa / length}"
   ]
  },
  {
   "cell_type": "code",
   "execution_count": 28,
   "id": "b9ebeec6",
   "metadata": {},
   "outputs": [
    {
     "name": "stdout",
     "output_type": "stream",
     "text": [
      "(54, 67, 567, 56, 78)\n"
     ]
    },
    {
     "data": {
      "text/plain": [
       "{'Сумма': 822, 'Среднее': 164.4}"
      ]
     },
     "execution_count": 28,
     "metadata": {},
     "output_type": "execute_result"
    }
   ],
   "source": [
    "sum_perchases(54, 67, 567, 56, 78)"
   ]
  },
  {
   "cell_type": "code",
   "execution_count": 29,
   "id": "c51c0402",
   "metadata": {},
   "outputs": [],
   "source": [
    "def calc(**kwargs):\n",
    "    print(kwargs)\n"
   ]
  },
  {
   "cell_type": "code",
   "execution_count": 30,
   "id": "49373544",
   "metadata": {},
   "outputs": [
    {
     "name": "stdout",
     "output_type": "stream",
     "text": [
      "{'bananas': 15, 'apples': 20, 'tomatoes': 3}\n"
     ]
    }
   ],
   "source": [
    "calc(bananas = 15, apples = 20, tomatoes = 3)"
   ]
  },
  {
   "cell_type": "code",
   "execution_count": null,
   "id": "d1b541b2",
   "metadata": {},
   "outputs": [],
   "source": []
  }
 ],
 "metadata": {
  "kernelspec": {
   "display_name": "Python 3 (ipykernel)",
   "language": "python",
   "name": "python3"
  },
  "language_info": {
   "codemirror_mode": {
    "name": "ipython",
    "version": 3
   },
   "file_extension": ".py",
   "mimetype": "text/x-python",
   "name": "python",
   "nbconvert_exporter": "python",
   "pygments_lexer": "ipython3",
   "version": "3.11.5"
  }
 },
 "nbformat": 4,
 "nbformat_minor": 5
}
